{
 "cells": [
  {
   "cell_type": "markdown",
   "metadata": {},
   "source": [
    "# Desafio - Analisando o preço de combustíveis"
   ]
  },
  {
   "cell_type": "markdown",
   "metadata": {},
   "source": [
    "Nos últimos meses a alta da Gasolina tem impactado a vida de muitos consumidores\n",
    "\n",
    "Com isso precisamos saber:\n",
    "\n",
    "1. No ano de 2021, qual o maior valor da gasolina por estado?\n",
    "\n",
    "2. Gere um gráfico em barras da média de valor da gasolina pôr mês em 2021.\n",
    "\n",
    "3. No mês 04/2021, identifique qual(ais) as cidade(s) que abastecer com etanol é mais vantajaso do que gasolina?\n",
    "\n",
    "OBS: Para saber se o etanol é mais vantajoso, basta dividir o preço do litro do etanol pelo da gasolina. Se o resultado for inferior a 0,7, o etanol r é o melhor para abastecer. Se for maior que 0,7, então a gasolina é melhor.\n",
    "\n",
    "Dicas:\n",
    "\n",
    "Use urllib.request: Essa Biblioteca é para baixar a base de dados, caso necessário\n",
    "\n",
    "Use pandas: O Pandas é uma biblioteca do Python muito utilizada para análise de dados. Com ele podemos ler nossos dados, e começar a manipular, transformar e limpar, caso necessário."
   ]
  },
  {
   "cell_type": "code",
   "execution_count": 1,
   "metadata": {},
   "outputs": [],
   "source": [
    "# A - Série histórica de preços de combustíveis - \n",
    "# revenda - Conjuntos de dados - Portal Brasileiro de Dados Abertos \n",
    "url = \"https://dados.gov.br/dataset/serie-historica-de-precos-de-combustiveis-por-revenda\""
   ]
  },
  {
   "cell_type": "markdown",
   "metadata": {},
   "source": [
    "### Importações"
   ]
  },
  {
   "cell_type": "code",
   "execution_count": 2,
   "metadata": {},
   "outputs": [],
   "source": [
    "from bs4 import BeautifulSoup"
   ]
  },
  {
   "cell_type": "code",
   "execution_count": 3,
   "metadata": {},
   "outputs": [],
   "source": [
    "from datetime import datetime"
   ]
  },
  {
   "cell_type": "code",
   "execution_count": 4,
   "metadata": {},
   "outputs": [],
   "source": [
    "import pandas as pd"
   ]
  },
  {
   "cell_type": "code",
   "execution_count": 5,
   "metadata": {},
   "outputs": [],
   "source": [
    "import requests"
   ]
  },
  {
   "cell_type": "code",
   "execution_count": 6,
   "metadata": {},
   "outputs": [],
   "source": [
    "import os"
   ]
  },
  {
   "cell_type": "markdown",
   "metadata": {},
   "source": [
    "### Pegar as URI dos arquivos Etanol + Gasolina"
   ]
  },
  {
   "cell_type": "markdown",
   "metadata": {},
   "source": [
    "Foi nescessario baixar a cadeia de certificado SSL por causa de um erro de verificação ao acessar a pagina atraves do python"
   ]
  },
  {
   "cell_type": "markdown",
   "metadata": {},
   "source": [
    "Foram colocados na pasta **certificados**."
   ]
  },
  {
   "cell_type": "code",
   "execution_count": 7,
   "metadata": {},
   "outputs": [],
   "source": [
    "resp = requests.get(url=url, verify=\"certificados/dados-gov-br-chain.pem\")"
   ]
  },
  {
   "cell_type": "code",
   "execution_count": 8,
   "metadata": {},
   "outputs": [
    {
     "data": {
      "text/plain": [
       "200"
      ]
     },
     "execution_count": 8,
     "metadata": {},
     "output_type": "execute_result"
    }
   ],
   "source": [
    "resp.status_code"
   ]
  },
  {
   "cell_type": "code",
   "execution_count": 9,
   "metadata": {},
   "outputs": [],
   "source": [
    "soup = BeautifulSoup(resp.text, 'lxml')"
   ]
  },
  {
   "cell_type": "code",
   "execution_count": 10,
   "metadata": {},
   "outputs": [],
   "source": [
    "links = soup.find_all('a', class_='resource-url-analytics')"
   ]
  },
  {
   "cell_type": "code",
   "execution_count": 11,
   "metadata": {},
   "outputs": [],
   "source": [
    "# href com 2 urls junta, foi pego apenas do arquivo\n",
    "uri_all = map(lambda a: a.get('href').split('?url=')[-1], links)"
   ]
  },
  {
   "cell_type": "code",
   "execution_count": 12,
   "metadata": {
    "scrolled": true
   },
   "outputs": [],
   "source": [
    "uris = filter(lambda x: 'etanol' in x and '2021' in x, uri_all)"
   ]
  },
  {
   "cell_type": "code",
   "execution_count": 13,
   "metadata": {},
   "outputs": [],
   "source": [
    "def download_file(url: str):\n",
    "    filename = url.split('/')[-1]\n",
    "\n",
    "    if not os.path.isdir('data'):\n",
    "        os.mkdir('data')\n",
    "    \n",
    "    response = requests.get(url)\n",
    "    if response.status_code == 200:\n",
    "\n",
    "        with open(f'data/{filename}', 'wb') as f:\n",
    "            f.write(response.content) \n",
    "            return f'Download {filename}: OK'\n",
    "\n",
    "    return f'Download {filename}: FAIL'"
   ]
  },
  {
   "cell_type": "code",
   "execution_count": 14,
   "metadata": {},
   "outputs": [
    {
     "name": "stdout",
     "output_type": "stream",
     "text": [
      "Download dados-abertos-precos-2021-01-gasolina-etanol.csv: FAIL\n",
      "Download 2021-02-gasolina-etanol.csv: OK\n",
      "Download 2021-03-gasolina-etanol.csv: OK\n",
      "Download 2021-04-gasolina-etanol.csv: OK\n",
      "Download 2021-05-gasolina-etanol-1.csv: OK\n",
      "Download 2021-06-gasolina-etanol.csv: OK\n",
      "Download 2021-07-gasolina-etanol.csv: OK\n"
     ]
    }
   ],
   "source": [
    "for uri in uris:\n",
    "    print(download_file(uri))"
   ]
  },
  {
   "cell_type": "markdown",
   "metadata": {},
   "source": [
    "O link do arquvo do mes de janeiro esta quebrado"
   ]
  },
  {
   "cell_type": "markdown",
   "metadata": {},
   "source": [
    "### Concatenado Dataframes"
   ]
  },
  {
   "cell_type": "code",
   "execution_count": 15,
   "metadata": {},
   "outputs": [],
   "source": [
    "pd.set_option(\"display.precision\", 2)"
   ]
  },
  {
   "cell_type": "code",
   "execution_count": 16,
   "metadata": {},
   "outputs": [],
   "source": [
    "dtype = {\n",
    "    'Região - Sigla': 'object',\n",
    "    'Estado - Sigla': 'object', \n",
    "    'Município': 'object',\n",
    "    'Revenda': 'object',\n",
    "    'CNPJ da Revenda': 'object', \n",
    "    'Nome da Rua':'object',\n",
    "    'Número Rua': 'object',\n",
    "    'Complemento': 'object',\n",
    "    'Bairro': 'object',\n",
    "    'Cep': 'object',\n",
    "    'Produto': 'object',\n",
    "    'Valor de Venda': 'float32',\n",
    "    'Valor de Compra': 'float32',\n",
    "    'Unidade de Medida': 'object',\n",
    "    'Bandeira': 'object'\n",
    "}"
   ]
  },
  {
   "cell_type": "code",
   "execution_count": 17,
   "metadata": {},
   "outputs": [],
   "source": [
    "files = filter(lambda x: '.csv' in x, os.listdir('data'))"
   ]
  },
  {
   "cell_type": "code",
   "execution_count": 18,
   "metadata": {},
   "outputs": [],
   "source": [
    "df_concat = pd.concat([pd.read_csv(f'data/{filename}', sep=';') for filename in files])"
   ]
  },
  {
   "cell_type": "code",
   "execution_count": 19,
   "metadata": {},
   "outputs": [
    {
     "data": {
      "text/plain": [
       "251420"
      ]
     },
     "execution_count": 19,
     "metadata": {},
     "output_type": "execute_result"
    }
   ],
   "source": [
    "len(df_concat)"
   ]
  },
  {
   "cell_type": "code",
   "execution_count": 20,
   "metadata": {
    "scrolled": true
   },
   "outputs": [],
   "source": [
    "df_concat['Valor de Venda'] = df_concat['Valor de Venda'].map(lambda x: x.replace(',', '.'))"
   ]
  },
  {
   "cell_type": "code",
   "execution_count": 21,
   "metadata": {},
   "outputs": [],
   "source": [
    "df_concat['Data da Coleta'] = df_concat['Data da Coleta'].map(lambda x: datetime.strptime(x, '%d/%m/%Y'))"
   ]
  },
  {
   "cell_type": "code",
   "execution_count": 22,
   "metadata": {},
   "outputs": [],
   "source": [
    "df_concat = df_concat.astype(dtype=dtype)"
   ]
  },
  {
   "cell_type": "markdown",
   "metadata": {},
   "source": [
    "### Tratar Valores Nulos e NaN"
   ]
  },
  {
   "cell_type": "markdown",
   "metadata": {},
   "source": [
    "Não foi tratados os campos nulos, pois não são utilizados"
   ]
  },
  {
   "cell_type": "code",
   "execution_count": 23,
   "metadata": {
    "scrolled": true
   },
   "outputs": [
    {
     "data": {
      "text/plain": [
       "Região - Sigla            0\n",
       "Estado - Sigla            0\n",
       "Município                 0\n",
       "Revenda                   0\n",
       "CNPJ da Revenda           0\n",
       "Nome da Rua               0\n",
       "Número Rua              116\n",
       "Complemento          200239\n",
       "Bairro                  536\n",
       "Cep                       0\n",
       "Produto                   0\n",
       "Data da Coleta            0\n",
       "Valor de Venda            0\n",
       "Valor de Compra      251420\n",
       "Unidade de Medida         0\n",
       "Bandeira                  0\n",
       "dtype: int64"
      ]
     },
     "execution_count": 23,
     "metadata": {},
     "output_type": "execute_result"
    }
   ],
   "source": [
    "df_concat.isna().sum()"
   ]
  },
  {
   "cell_type": "markdown",
   "metadata": {},
   "source": [
    "### 01 - No ano de 2021, qual o maior valor da gasolina por estado?"
   ]
  },
  {
   "cell_type": "code",
   "execution_count": 24,
   "metadata": {},
   "outputs": [
    {
     "data": {
      "text/plain": [
       "array(['GASOLINA ADITIVADA', 'ETANOL', 'GASOLINA'], dtype=object)"
      ]
     },
     "execution_count": 24,
     "metadata": {},
     "output_type": "execute_result"
    }
   ],
   "source": [
    "df_concat.Produto.unique()"
   ]
  },
  {
   "cell_type": "code",
   "execution_count": 25,
   "metadata": {},
   "outputs": [],
   "source": [
    "df_gasolina = df_concat[df_concat['Produto'] == 'GASOLINA']"
   ]
  },
  {
   "cell_type": "code",
   "execution_count": 26,
   "metadata": {
    "scrolled": false
   },
   "outputs": [],
   "source": [
    "df_desafio_01 = df_gasolina[['Estado - Sigla', 'Valor de Venda']].rename(\n",
    "                            columns={'Estado - Sigla': 'UF', 'Valor de Venda':'VALOR'})"
   ]
  },
  {
   "cell_type": "code",
   "execution_count": 27,
   "metadata": {
    "scrolled": false
   },
   "outputs": [
    {
     "data": {
      "text/html": [
       "<div>\n",
       "<style scoped>\n",
       "    .dataframe tbody tr th:only-of-type {\n",
       "        vertical-align: middle;\n",
       "    }\n",
       "\n",
       "    .dataframe tbody tr th {\n",
       "        vertical-align: top;\n",
       "    }\n",
       "\n",
       "    .dataframe thead th {\n",
       "        text-align: right;\n",
       "    }\n",
       "</style>\n",
       "<table border=\"1\" class=\"dataframe\">\n",
       "  <thead>\n",
       "    <tr style=\"text-align: right;\">\n",
       "      <th></th>\n",
       "      <th>VALOR</th>\n",
       "    </tr>\n",
       "    <tr>\n",
       "      <th>UF</th>\n",
       "      <th></th>\n",
       "    </tr>\n",
       "  </thead>\n",
       "  <tbody>\n",
       "    <tr>\n",
       "      <th>AC</th>\n",
       "      <td>6.99</td>\n",
       "    </tr>\n",
       "    <tr>\n",
       "      <th>AL</th>\n",
       "      <td>6.60</td>\n",
       "    </tr>\n",
       "    <tr>\n",
       "      <th>AM</th>\n",
       "      <td>6.05</td>\n",
       "    </tr>\n",
       "    <tr>\n",
       "      <th>AP</th>\n",
       "      <td>5.70</td>\n",
       "    </tr>\n",
       "    <tr>\n",
       "      <th>BA</th>\n",
       "      <td>6.50</td>\n",
       "    </tr>\n",
       "    <tr>\n",
       "      <th>CE</th>\n",
       "      <td>6.35</td>\n",
       "    </tr>\n",
       "    <tr>\n",
       "      <th>DF</th>\n",
       "      <td>6.30</td>\n",
       "    </tr>\n",
       "    <tr>\n",
       "      <th>ES</th>\n",
       "      <td>6.91</td>\n",
       "    </tr>\n",
       "    <tr>\n",
       "      <th>GO</th>\n",
       "      <td>6.65</td>\n",
       "    </tr>\n",
       "    <tr>\n",
       "      <th>MA</th>\n",
       "      <td>6.23</td>\n",
       "    </tr>\n",
       "    <tr>\n",
       "      <th>MG</th>\n",
       "      <td>7.00</td>\n",
       "    </tr>\n",
       "    <tr>\n",
       "      <th>MS</th>\n",
       "      <td>6.33</td>\n",
       "    </tr>\n",
       "    <tr>\n",
       "      <th>MT</th>\n",
       "      <td>6.54</td>\n",
       "    </tr>\n",
       "    <tr>\n",
       "      <th>PA</th>\n",
       "      <td>6.66</td>\n",
       "    </tr>\n",
       "    <tr>\n",
       "      <th>PB</th>\n",
       "      <td>5.93</td>\n",
       "    </tr>\n",
       "    <tr>\n",
       "      <th>PE</th>\n",
       "      <td>6.43</td>\n",
       "    </tr>\n",
       "    <tr>\n",
       "      <th>PI</th>\n",
       "      <td>6.50</td>\n",
       "    </tr>\n",
       "    <tr>\n",
       "      <th>PR</th>\n",
       "      <td>6.35</td>\n",
       "    </tr>\n",
       "    <tr>\n",
       "      <th>RJ</th>\n",
       "      <td>6.96</td>\n",
       "    </tr>\n",
       "    <tr>\n",
       "      <th>RN</th>\n",
       "      <td>6.50</td>\n",
       "    </tr>\n",
       "    <tr>\n",
       "      <th>RO</th>\n",
       "      <td>6.34</td>\n",
       "    </tr>\n",
       "    <tr>\n",
       "      <th>RR</th>\n",
       "      <td>5.65</td>\n",
       "    </tr>\n",
       "    <tr>\n",
       "      <th>RS</th>\n",
       "      <td>7.00</td>\n",
       "    </tr>\n",
       "    <tr>\n",
       "      <th>SC</th>\n",
       "      <td>6.14</td>\n",
       "    </tr>\n",
       "    <tr>\n",
       "      <th>SE</th>\n",
       "      <td>6.00</td>\n",
       "    </tr>\n",
       "    <tr>\n",
       "      <th>SP</th>\n",
       "      <td>6.50</td>\n",
       "    </tr>\n",
       "    <tr>\n",
       "      <th>TO</th>\n",
       "      <td>6.23</td>\n",
       "    </tr>\n",
       "  </tbody>\n",
       "</table>\n",
       "</div>"
      ],
      "text/plain": [
       "    VALOR\n",
       "UF       \n",
       "AC   6.99\n",
       "AL   6.60\n",
       "AM   6.05\n",
       "AP   5.70\n",
       "BA   6.50\n",
       "CE   6.35\n",
       "DF   6.30\n",
       "ES   6.91\n",
       "GO   6.65\n",
       "MA   6.23\n",
       "MG   7.00\n",
       "MS   6.33\n",
       "MT   6.54\n",
       "PA   6.66\n",
       "PB   5.93\n",
       "PE   6.43\n",
       "PI   6.50\n",
       "PR   6.35\n",
       "RJ   6.96\n",
       "RN   6.50\n",
       "RO   6.34\n",
       "RR   5.65\n",
       "RS   7.00\n",
       "SC   6.14\n",
       "SE   6.00\n",
       "SP   6.50\n",
       "TO   6.23"
      ]
     },
     "execution_count": 27,
     "metadata": {},
     "output_type": "execute_result"
    }
   ],
   "source": [
    "df_desafio_01.groupby('UF').max()"
   ]
  },
  {
   "cell_type": "markdown",
   "metadata": {},
   "source": [
    "### 02 - Gere um gráfico em barras da média de valor da gasolina pôr mês em 2021."
   ]
  },
  {
   "cell_type": "code",
   "execution_count": 28,
   "metadata": {},
   "outputs": [],
   "source": [
    "df_desario_02 = df_gasolina[['Data da Coleta', 'Valor de Venda']]"
   ]
  },
  {
   "cell_type": "code",
   "execution_count": 29,
   "metadata": {},
   "outputs": [],
   "source": [
    "df_gp = df_desario_02.groupby(pd.Grouper(key='Data da Coleta', axis=0, freq='M')).mean()"
   ]
  },
  {
   "cell_type": "code",
   "execution_count": 30,
   "metadata": {},
   "outputs": [],
   "source": [
    "# Troca a data pelas 3 primeiras letras do nome do mes\n",
    "df_gp.index = df_gp.index.map(lambda x: str(x.month_name())[:3])"
   ]
  },
  {
   "cell_type": "code",
   "execution_count": 31,
   "metadata": {
    "scrolled": false
   },
   "outputs": [
    {
     "data": {
      "text/html": [
       "<div>\n",
       "<style scoped>\n",
       "    .dataframe tbody tr th:only-of-type {\n",
       "        vertical-align: middle;\n",
       "    }\n",
       "\n",
       "    .dataframe tbody tr th {\n",
       "        vertical-align: top;\n",
       "    }\n",
       "\n",
       "    .dataframe thead th {\n",
       "        text-align: right;\n",
       "    }\n",
       "</style>\n",
       "<table border=\"1\" class=\"dataframe\">\n",
       "  <thead>\n",
       "    <tr style=\"text-align: right;\">\n",
       "      <th></th>\n",
       "      <th>Valor de Venda</th>\n",
       "    </tr>\n",
       "    <tr>\n",
       "      <th>Data da Coleta</th>\n",
       "      <th></th>\n",
       "    </tr>\n",
       "  </thead>\n",
       "  <tbody>\n",
       "    <tr>\n",
       "      <th>Feb</th>\n",
       "      <td>4.91</td>\n",
       "    </tr>\n",
       "    <tr>\n",
       "      <th>Mar</th>\n",
       "      <td>5.47</td>\n",
       "    </tr>\n",
       "    <tr>\n",
       "      <th>Apr</th>\n",
       "      <td>5.45</td>\n",
       "    </tr>\n",
       "    <tr>\n",
       "      <th>May</th>\n",
       "      <td>5.58</td>\n",
       "    </tr>\n",
       "    <tr>\n",
       "      <th>Jun</th>\n",
       "      <td>5.67</td>\n",
       "    </tr>\n",
       "    <tr>\n",
       "      <th>Jul</th>\n",
       "      <td>5.80</td>\n",
       "    </tr>\n",
       "  </tbody>\n",
       "</table>\n",
       "</div>"
      ],
      "text/plain": [
       "                Valor de Venda\n",
       "Data da Coleta                \n",
       "Feb                       4.91\n",
       "Mar                       5.47\n",
       "Apr                       5.45\n",
       "May                       5.58\n",
       "Jun                       5.67\n",
       "Jul                       5.80"
      ]
     },
     "execution_count": 31,
     "metadata": {},
     "output_type": "execute_result"
    }
   ],
   "source": [
    "df_gp"
   ]
  },
  {
   "cell_type": "code",
   "execution_count": 32,
   "metadata": {},
   "outputs": [],
   "source": [
    "bar_conf = {\n",
    "    'title': 'Media do preço da Gasolina por Mês em 2021',\n",
    "    'xlabel': 'Mês',\n",
    "    'ylabel': 'Media de Preço',\n",
    "    'ylim': [0,10],\n",
    "    'rot': 0,\n",
    "    'figsize': (15, 5),\n",
    "}"
   ]
  },
  {
   "cell_type": "code",
   "execution_count": 33,
   "metadata": {
    "scrolled": false
   },
   "outputs": [
    {
     "data": {
      "image/png": "[encoded data removed]",
      "text/plain": [
       "<Figure size 1080x360 with 1 Axes>"
      ]
     },
     "metadata": {
      "needs_background": "light"
     },
     "output_type": "display_data"
    }
   ],
   "source": [
    "ax = df_gp.plot.bar(**bar_conf)\n",
    "\n",
    "for i, v in enumerate(df_gp['Valor de Venda']):\n",
    "    ax.text(i-0.17, v+0.5, 'R$ %.2f' % v, fontsize=12)"
   ]
  },
  {
   "cell_type": "markdown",
   "metadata": {},
   "source": [
    "### 02 - No mês 04/2021, identifique qual(ais) as cidade(s) que abastecer com etanol é mais vantajaso do que gasolina?"
   ]
  },
  {
   "cell_type": "code",
   "execution_count": 34,
   "metadata": {},
   "outputs": [],
   "source": [
    "df_apr = df_concat[df_concat['Data da Coleta'].dt.month == 4]"
   ]
  },
  {
   "cell_type": "code",
   "execution_count": 35,
   "metadata": {},
   "outputs": [],
   "source": [
    "df_slc = df_apr[df_apr['Produto'] != 'GASOLINA ADITIVADA'][['Município', 'Produto', 'Valor de Venda']]"
   ]
  },
  {
   "cell_type": "code",
   "execution_count": 36,
   "metadata": {},
   "outputs": [
    {
     "data": {
      "text/html": [
       "<div>\n",
       "<style scoped>\n",
       "    .dataframe tbody tr th:only-of-type {\n",
       "        vertical-align: middle;\n",
       "    }\n",
       "\n",
       "    .dataframe tbody tr th {\n",
       "        vertical-align: top;\n",
       "    }\n",
       "\n",
       "    .dataframe thead th {\n",
       "        text-align: right;\n",
       "    }\n",
       "</style>\n",
       "<table border=\"1\" class=\"dataframe\">\n",
       "  <thead>\n",
       "    <tr style=\"text-align: right;\">\n",
       "      <th></th>\n",
       "      <th></th>\n",
       "      <th>Valor de Venda</th>\n",
       "    </tr>\n",
       "    <tr>\n",
       "      <th>Município</th>\n",
       "      <th>Produto</th>\n",
       "      <th></th>\n",
       "    </tr>\n",
       "  </thead>\n",
       "  <tbody>\n",
       "    <tr>\n",
       "      <th rowspan=\"2\" valign=\"top\">ADAMANTINA</th>\n",
       "      <th>ETANOL</th>\n",
       "      <td>3.64</td>\n",
       "    </tr>\n",
       "    <tr>\n",
       "      <th>GASOLINA</th>\n",
       "      <td>5.32</td>\n",
       "    </tr>\n",
       "    <tr>\n",
       "      <th>ALENQUER</th>\n",
       "      <th>GASOLINA</th>\n",
       "      <td>6.00</td>\n",
       "    </tr>\n",
       "    <tr>\n",
       "      <th rowspan=\"2\" valign=\"top\">ALVORADA</th>\n",
       "      <th>ETANOL</th>\n",
       "      <td>5.72</td>\n",
       "    </tr>\n",
       "    <tr>\n",
       "      <th>GASOLINA</th>\n",
       "      <td>5.81</td>\n",
       "    </tr>\n",
       "    <tr>\n",
       "      <th>...</th>\n",
       "      <th>...</th>\n",
       "      <td>...</td>\n",
       "    </tr>\n",
       "    <tr>\n",
       "      <th>VITORIA DE SANTO ANTAO</th>\n",
       "      <th>GASOLINA</th>\n",
       "      <td>5.37</td>\n",
       "    </tr>\n",
       "    <tr>\n",
       "      <th rowspan=\"2\" valign=\"top\">VOLTA REDONDA</th>\n",
       "      <th>ETANOL</th>\n",
       "      <td>5.01</td>\n",
       "    </tr>\n",
       "    <tr>\n",
       "      <th>GASOLINA</th>\n",
       "      <td>6.15</td>\n",
       "    </tr>\n",
       "    <tr>\n",
       "      <th rowspan=\"2\" valign=\"top\">VOTORANTIM</th>\n",
       "      <th>ETANOL</th>\n",
       "      <td>3.58</td>\n",
       "    </tr>\n",
       "    <tr>\n",
       "      <th>GASOLINA</th>\n",
       "      <td>5.18</td>\n",
       "    </tr>\n",
       "  </tbody>\n",
       "</table>\n",
       "<p>461 rows × 1 columns</p>\n",
       "</div>"
      ],
      "text/plain": [
       "                                 Valor de Venda\n",
       "Município              Produto                 \n",
       "ADAMANTINA             ETANOL              3.64\n",
       "                       GASOLINA            5.32\n",
       "ALENQUER               GASOLINA            6.00\n",
       "ALVORADA               ETANOL              5.72\n",
       "                       GASOLINA            5.81\n",
       "...                                         ...\n",
       "VITORIA DE SANTO ANTAO GASOLINA            5.37\n",
       "VOLTA REDONDA          ETANOL              5.01\n",
       "                       GASOLINA            6.15\n",
       "VOTORANTIM             ETANOL              3.58\n",
       "                       GASOLINA            5.18\n",
       "\n",
       "[461 rows x 1 columns]"
      ]
     },
     "execution_count": 36,
     "metadata": {},
     "output_type": "execute_result"
    }
   ],
   "source": [
    "df_slc.groupby(['Município', 'Produto']).mean()"
   ]
  },
  {
   "cell_type": "code",
   "execution_count": 37,
   "metadata": {},
   "outputs": [],
   "source": [
    "gp_etanol = df_slc[df_slc['Produto'] == 'ETANOL'].groupby('Município').mean()"
   ]
  },
  {
   "cell_type": "code",
   "execution_count": 38,
   "metadata": {},
   "outputs": [],
   "source": [
    "gp_gasolina = df_slc[df_slc['Produto'] == 'GASOLINA'].groupby('Município').mean()"
   ]
  },
  {
   "cell_type": "code",
   "execution_count": 39,
   "metadata": {
    "scrolled": false
   },
   "outputs": [
    {
     "name": "stdout",
     "output_type": "stream",
     "text": [
      "CIDADES QUE O ETANOL É MAIS VANTAJOSO - 04/2021\n",
      "===============================\n",
      "Municipio: Adamantina\n",
      "Valor: R$ 3.64\n",
      "===============================\n",
      "Municipio: Aparecida De Goiania\n",
      "Valor: R$ 3.97\n",
      "===============================\n",
      "Municipio: Aracatuba\n",
      "Valor: R$ 3.48\n",
      "===============================\n",
      "Municipio: Araguari\n",
      "Valor: R$ 3.92\n",
      "===============================\n",
      "Municipio: Araraquara\n",
      "Valor: R$ 3.59\n",
      "===============================\n",
      "Municipio: Araras\n",
      "Valor: R$ 3.53\n",
      "===============================\n",
      "Municipio: Assis\n",
      "Valor: R$ 3.49\n",
      "===============================\n",
      "Municipio: Atibaia\n",
      "Valor: R$ 3.70\n",
      "===============================\n",
      "Municipio: Barretos\n",
      "Valor: R$ 3.50\n",
      "===============================\n",
      "Municipio: Barueri\n",
      "Valor: R$ 3.55\n",
      "===============================\n",
      "Municipio: Bauru\n",
      "Valor: R$ 3.44\n",
      "===============================\n",
      "Municipio: Bebedouro\n",
      "Valor: R$ 3.64\n",
      "===============================\n",
      "Municipio: Belo Horizonte\n",
      "Valor: R$ 3.88\n",
      "===============================\n",
      "Municipio: Betim\n",
      "Valor: R$ 3.86\n",
      "===============================\n",
      "Municipio: Birigui\n",
      "Valor: R$ 3.69\n",
      "===============================\n",
      "Municipio: Campinas\n",
      "Valor: R$ 3.64\n",
      "===============================\n",
      "Municipio: Carapicuiba\n",
      "Valor: R$ 3.57\n",
      "===============================\n",
      "Municipio: Catanduva\n",
      "Valor: R$ 3.70\n",
      "===============================\n",
      "Municipio: Contagem\n",
      "Valor: R$ 3.89\n",
      "===============================\n",
      "Municipio: Cotia\n",
      "Valor: R$ 3.66\n",
      "===============================\n",
      "Municipio: Cruzeiro\n",
      "Valor: R$ 3.75\n",
      "===============================\n",
      "Municipio: Cuiaba\n",
      "Valor: R$ 3.54\n",
      "===============================\n",
      "Municipio: Diadema\n",
      "Valor: R$ 3.61\n",
      "===============================\n",
      "Municipio: Embu Das Artes\n",
      "Valor: R$ 3.69\n",
      "===============================\n",
      "Municipio: Franca\n",
      "Valor: R$ 3.73\n",
      "===============================\n",
      "Municipio: Frutal\n",
      "Valor: R$ 4.03\n",
      "===============================\n",
      "Municipio: Goiania\n",
      "Valor: R$ 3.94\n",
      "===============================\n",
      "Municipio: Guarulhos\n",
      "Valor: R$ 3.55\n",
      "===============================\n",
      "Municipio: Hortolandia\n",
      "Valor: R$ 3.54\n",
      "===============================\n",
      "Municipio: Indaiatuba\n",
      "Valor: R$ 3.63\n",
      "===============================\n",
      "Municipio: Itaquaquecetuba\n",
      "Valor: R$ 3.50\n",
      "===============================\n",
      "Municipio: Itatiba\n",
      "Valor: R$ 3.49\n",
      "===============================\n",
      "Municipio: Ituiutaba\n",
      "Valor: R$ 3.99\n",
      "===============================\n",
      "Municipio: Jau\n",
      "Valor: R$ 3.73\n",
      "===============================\n",
      "Municipio: Joao Pinheiro\n",
      "Valor: R$ 3.99\n",
      "===============================\n",
      "Municipio: Leme\n",
      "Valor: R$ 3.62\n",
      "===============================\n",
      "Municipio: Limeira\n",
      "Valor: R$ 3.58\n",
      "===============================\n",
      "Municipio: Maringa\n",
      "Valor: R$ 3.78\n",
      "===============================\n",
      "Municipio: Monte Carmelo\n",
      "Valor: R$ 4.05\n",
      "===============================\n",
      "Municipio: Montes Claros\n",
      "Valor: R$ 3.94\n",
      "===============================\n",
      "Municipio: Osasco\n",
      "Valor: R$ 3.54\n",
      "===============================\n",
      "Municipio: Paulinia\n",
      "Valor: R$ 3.43\n",
      "===============================\n",
      "Municipio: Piracicaba\n",
      "Valor: R$ 3.62\n",
      "===============================\n",
      "Municipio: Pirassununga\n",
      "Valor: R$ 3.63\n",
      "===============================\n",
      "Municipio: Pocos De Caldas\n",
      "Valor: R$ 3.89\n",
      "===============================\n",
      "Municipio: Ribeirao Preto\n",
      "Valor: R$ 3.48\n",
      "===============================\n",
      "Municipio: Rio Claro\n",
      "Valor: R$ 3.59\n",
      "===============================\n",
      "Municipio: Santo Andre\n",
      "Valor: R$ 3.67\n",
      "===============================\n",
      "Municipio: Sao Bernardo Do Campo\n",
      "Valor: R$ 3.67\n",
      "===============================\n",
      "Municipio: Sao Caetano Do Sul\n",
      "Valor: R$ 3.71\n",
      "===============================\n",
      "Municipio: Sao Joao Da Boa Vista\n",
      "Valor: R$ 3.55\n",
      "===============================\n",
      "Municipio: Sao Jose Do Rio Preto\n",
      "Valor: R$ 3.45\n",
      "===============================\n",
      "Municipio: Sao Paulo\n",
      "Valor: R$ 3.61\n",
      "===============================\n",
      "Municipio: Sete Lagoas\n",
      "Valor: R$ 3.78\n",
      "===============================\n",
      "Municipio: Sinop\n",
      "Valor: R$ 3.77\n",
      "===============================\n",
      "Municipio: Sorocaba\n",
      "Valor: R$ 3.54\n",
      "===============================\n",
      "Municipio: Sorriso\n",
      "Valor: R$ 3.89\n",
      "===============================\n",
      "Municipio: Sumare\n",
      "Valor: R$ 3.58\n",
      "===============================\n",
      "Municipio: Suzano\n",
      "Valor: R$ 3.58\n",
      "===============================\n",
      "Municipio: Taboao Da Serra\n",
      "Valor: R$ 3.62\n",
      "===============================\n",
      "Municipio: Taubate\n",
      "Valor: R$ 3.52\n",
      "===============================\n",
      "Municipio: Uberaba\n",
      "Valor: R$ 3.81\n",
      "===============================\n",
      "Municipio: Uberlandia\n",
      "Valor: R$ 3.77\n",
      "===============================\n",
      "Municipio: Valinhos\n",
      "Valor: R$ 3.58\n",
      "===============================\n",
      "Municipio: Varzea Grande\n",
      "Valor: R$ 3.50\n",
      "===============================\n",
      "Municipio: Votorantim\n",
      "Valor: R$ 3.58\n",
      "===============================\n"
     ]
    }
   ],
   "source": [
    "print('CIDADES QUE O ETANOL É MAIS VANTAJOSO - 04/2021')\n",
    "print('===============================')\n",
    "\n",
    "for key in gp_etanol.index:\n",
    "    if gp_etanol['Valor de Venda'][key] / gp_gasolina['Valor de Venda'][key] < 0.7:\n",
    "        print('Municipio: %s' % key.title())\n",
    "        print('Valor: R$ %.2f' % gp_etanol['Valor de Venda'][key])\n",
    "        print('===============================')\n"
   ]
  },
  {
   "cell_type": "code",
   "execution_count": null,
   "metadata": {},
   "outputs": [],
   "source": []
  }
 ],
 "metadata": {
  "kernelspec": {
   "display_name": "Python 3 (ipykernel)",
   "language": "python",
   "name": "python3"
  },
  "language_info": {
   "codemirror_mode": {
    "name": "ipython",
    "version": 3
   },
   "file_extension": ".py",
   "mimetype": "text/x-python",
   "name": "python",
   "nbconvert_exporter": "python",
   "pygments_lexer": "ipython3",
   "version": "3.9.6"
  }
 },
 "nbformat": 4,
 "nbformat_minor": 4
}
